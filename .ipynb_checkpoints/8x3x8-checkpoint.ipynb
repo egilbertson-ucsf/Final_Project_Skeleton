{
 "cells": [
  {
   "cell_type": "code",
   "execution_count": 1,
   "metadata": {},
   "outputs": [],
   "source": [
    "import numpy as np\n",
    "from scipy.special import expit as expit"
   ]
  },
  {
   "cell_type": "code",
   "execution_count": 2,
   "metadata": {},
   "outputs": [],
   "source": [
    "id = np.identity(8)\n",
    "np.random.seed(50)"
   ]
  },
  {
   "cell_type": "code",
   "execution_count": 3,
   "metadata": {},
   "outputs": [
    {
     "data": {
      "text/plain": [
       "array([[1., 0., 0., 0., 0., 0., 0., 0.],\n",
       "       [0., 1., 0., 0., 0., 0., 0., 0.],\n",
       "       [0., 0., 1., 0., 0., 0., 0., 0.],\n",
       "       [0., 0., 0., 1., 0., 0., 0., 0.],\n",
       "       [0., 0., 0., 0., 1., 0., 0., 0.],\n",
       "       [0., 0., 0., 0., 0., 1., 0., 0.],\n",
       "       [0., 0., 0., 0., 0., 0., 1., 0.],\n",
       "       [0., 0., 0., 0., 0., 0., 0., 1.]])"
      ]
     },
     "execution_count": 3,
     "metadata": {},
     "output_type": "execute_result"
    }
   ],
   "source": [
    "id"
   ]
  },
  {
   "cell_type": "code",
   "execution_count": 4,
   "metadata": {},
   "outputs": [],
   "source": [
    "def activation(x, dx = False):\n",
    "    '''\n",
    "    Sigmiod based activation function - as discussed by Mike Keiser in class\n",
    "    Input: value to be 'activated' can be int, float or array, boolean of if we want the derivative or not\n",
    "    Output: sigmoid activation of input, derivative if requested\n",
    "    using expit from scipy to prevent runtime overflow errors\n",
    "    '''\n",
    "    sig = expit(x + 1) \n",
    "    if dx:\n",
    "        return sig*(1-sig)\n",
    "    else:\n",
    "        return sig\n",
    "    \n",
    "    "
   ]
  },
  {
   "cell_type": "code",
   "execution_count": 5,
   "metadata": {},
   "outputs": [],
   "source": [
    "seqs = id"
   ]
  },
  {
   "cell_type": "code",
   "execution_count": 6,
   "metadata": {},
   "outputs": [],
   "source": [
    "num_hidden = 3\n",
    "rounds = 100000\n",
    "output_dim = 8\n",
    "classes = id\n",
    "\n",
    "num_seqs = len(seqs)\n",
    "input_dim = len(seqs[0])\n",
    "\n",
    "learn_rate = 0.01\n",
    "reg_term = .1"
   ]
  },
  {
   "cell_type": "code",
   "execution_count": 20,
   "metadata": {},
   "outputs": [],
   "source": [
    "def create_model(seqs, classes, num_hidden, rounds, input_dim, output_dim, learn_rate, reg_term):\n",
    "    # initialize needed values\n",
    "    weight1 = 2*np.random.randn(input_dim, num_hidden) - 1\n",
    "    weight2 = 2*np.random.randn(num_hidden, output_dim) - 1\n",
    "    model = dict()\n",
    "    err = []\n",
    "    \n",
    "    for i in range(rounds):\n",
    "        lay0 = seqs\n",
    "        lay1 = activation(x=np.dot(lay0, weight1), dx = False) # hidden layer \n",
    "        lay2 = activation(x = np.dot(lay1, weight2), dx = False) # output layer\n",
    "    \n",
    "        l2_error = classes - lay2\n",
    "        l2_change = l2_error*activation(x = lay2, dx = False)\n",
    "\n",
    "        #backpropogation for gradient descent\n",
    "        l1_error = l2_change.dot(weight2.T)\n",
    "        l1_change = l1_error*activation(x = lay1, dx = True)\n",
    "\n",
    "        # update weights\n",
    "\n",
    "        weight1 += learn_rate * (lay0.T.dot(l1_change) + reg_term*weight1)\n",
    "        weight2 += learn_rate * (lay1.T.dot(l2_change) + reg_term*weight2)\n",
    "\n",
    "        if i%1000 == 0:\n",
    "            e = np.mean(np.abs(l2_error))\n",
    "            err.append(e)\n",
    "        \n",
    "    model['weight1'] = weight1\n",
    "    model['weight2'] = weight2\n",
    "    \n",
    "    return model, lay2.round(4), err"
   ]
  },
  {
   "cell_type": "code",
   "execution_count": 27,
   "metadata": {},
   "outputs": [],
   "source": [
    "m = create_model(seqs, classes, num_hidden, rounds, input_dim, output_dim, learn_rate = 0.01, reg_term = 0)"
   ]
  },
  {
   "cell_type": "code",
   "execution_count": 28,
   "metadata": {},
   "outputs": [
    {
     "data": {
      "text/plain": [
       "({'weight1': array([[   0.288697  ,   47.55133313, -109.27364242],\n",
       "         [   0.4443881 , -139.98940266,   51.93564548],\n",
       "         [ -45.96668091,   24.17869344,   27.75433592],\n",
       "         [  57.05144575,   -5.50054465,   -1.4377844 ],\n",
       "         [  -2.61998813,   -2.74337811,   -2.75052247],\n",
       "         [  -2.39410477,   -1.58148938,   52.37299862],\n",
       "         [  59.04533912,   -1.37319996,   -6.57323331],\n",
       "         [  -2.44231327,   55.43207698,   -1.56619847]]),\n",
       "  'weight2': array([[ -7.72150119,  -7.40310972, -32.19363437,   6.67586203,\n",
       "           -3.28448318, -21.99106071,   6.53528064, -22.52094152],\n",
       "         [  8.25010861, -31.83842327,   1.05179388, -28.14145855,\n",
       "           -2.64776335, -17.61930536, -10.13430208,  12.717199  ],\n",
       "         [-31.34426065,   8.25455559,   1.35303629, -10.4244516 ,\n",
       "           -2.60895041,  12.79784816, -28.72763058, -17.49579587]])},\n",
       " array([[0.9607, 0.    , 0.    , 0.    , 0.0144, 0.    , 0.0178, 0.0191],\n",
       "        [0.    , 0.9632, 0.    , 0.0176, 0.0138, 0.0181, 0.    , 0.    ],\n",
       "        [0.    , 0.    , 0.9679, 0.    , 0.014 , 0.0214, 0.    , 0.0223],\n",
       "        [0.    , 0.0289, 0.    , 0.9637, 0.0343, 0.    , 0.0209, 0.    ],\n",
       "        [0.0245, 0.0232, 0.0187, 0.0258, 0.42  , 0.0335, 0.0246, 0.0318],\n",
       "        [0.    , 0.0257, 0.0249, 0.    , 0.0387, 0.9573, 0.    , 0.    ],\n",
       "        [0.03  , 0.    , 0.    , 0.0211, 0.0331, 0.    , 0.9642, 0.    ],\n",
       "        [0.0272, 0.    , 0.0263, 0.    , 0.0384, 0.    , 0.    , 0.9559]]),\n",
       " [0.4240707990892201,\n",
       "  0.18426390624737882,\n",
       "  0.15744917700274313,\n",
       "  0.1418183828542997,\n",
       "  0.13112562096737948,\n",
       "  0.12321584624817425,\n",
       "  0.11702790918858486,\n",
       "  0.11193525225806875,\n",
       "  0.10755511709931695,\n",
       "  0.10365064690484355,\n",
       "  0.10008180487620069,\n",
       "  0.09677457875866943,\n",
       "  0.0936932281166493,\n",
       "  0.09081780216625258,\n",
       "  0.08813236253444262,\n",
       "  0.08562185134838055,\n",
       "  0.08327203273298922,\n",
       "  0.08106966191489162,\n",
       "  0.0790024760740444,\n",
       "  0.07705907185995378,\n",
       "  0.0752286328791554,\n",
       "  0.07350034249782342,\n",
       "  0.07186203741711553,\n",
       "  0.07029702091161444,\n",
       "  0.06877761874364699,\n",
       "  0.06725941495688664,\n",
       "  0.06569006932806593,\n",
       "  0.06400512913836148,\n",
       "  0.062077351974788045,\n",
       "  0.059740319735364505,\n",
       "  0.057126957475763886,\n",
       "  0.05483843439664442,\n",
       "  0.05287641439369915,\n",
       "  0.0511059383664484,\n",
       "  0.04947972788416463,\n",
       "  0.04798110108076986,\n",
       "  0.04660686385342336,\n",
       "  0.04535830872770133,\n",
       "  0.04423623288407378,\n",
       "  0.043236187984852605,\n",
       "  0.042345519219372935,\n",
       "  0.04154504671747894,\n",
       "  0.040814449042481875,\n",
       "  0.04013696023051604,\n",
       "  0.039500822960564196,\n",
       "  0.03889841330313282,\n",
       "  0.038324808706597706,\n",
       "  0.037776677228823434,\n",
       "  0.03725160110948047,\n",
       "  0.03674770202475726,\n",
       "  0.0362634374348333,\n",
       "  0.03579748740629856,\n",
       "  0.03534868909363928,\n",
       "  0.034915997390180226,\n",
       "  0.03449846133120514,\n",
       "  0.034095211478869056,\n",
       "  0.033705456036610584,\n",
       "  0.03332848344862581,\n",
       "  0.03296366694479627,\n",
       "  0.03261046347816349,\n",
       "  0.03226839975733713,\n",
       "  0.031937045036834116,\n",
       "  0.03161598064670611,\n",
       "  0.03130478008986263,\n",
       "  0.031003006229299607,\n",
       "  0.03071022110876805,\n",
       "  0.03042599914412522,\n",
       "  0.03014993696769749,\n",
       "  0.029881657977783926,\n",
       "  0.029620812689468694,\n",
       "  0.029367076777203373,\n",
       "  0.0291201483017094,\n",
       "  0.028879744965287325,\n",
       "  0.028645601747755774,\n",
       "  0.02841746900049779,\n",
       "  0.028195110956629126,\n",
       "  0.02797830457986096,\n",
       "  0.02776683867488676,\n",
       "  0.02756051319221895,\n",
       "  0.02735913866911703,\n",
       "  0.027162535752589326,\n",
       "  0.0269705347518876,\n",
       "  0.026782975170245797,\n",
       "  0.026599705173332516,\n",
       "  0.02642058096823876,\n",
       "  0.026245466091794595,\n",
       "  0.026074230636117468,\n",
       "  0.025906750464379614,\n",
       "  0.02574290648215261,\n",
       "  0.025582584024340545,\n",
       "  0.02542567239617448,\n",
       "  0.02527206457661378,\n",
       "  0.025121657063853286,\n",
       "  0.024974349823534886,\n",
       "  0.024830046293916764,\n",
       "  0.024688653407013636,\n",
       "  0.02455008159608732,\n",
       "  0.024414244772979238,\n",
       "  0.02428106027011079,\n",
       "  0.024150448749855447])"
      ]
     },
     "execution_count": 28,
     "metadata": {},
     "output_type": "execute_result"
    }
   ],
   "source": [
    "m"
   ]
  },
  {
   "cell_type": "code",
   "execution_count": null,
   "metadata": {},
   "outputs": [],
   "source": []
  }
 ],
 "metadata": {
  "kernelspec": {
   "display_name": "Python 3",
   "language": "python",
   "name": "python3"
  },
  "language_info": {
   "codemirror_mode": {
    "name": "ipython",
    "version": 3
   },
   "file_extension": ".py",
   "mimetype": "text/x-python",
   "name": "python",
   "nbconvert_exporter": "python",
   "pygments_lexer": "ipython3",
   "version": "3.7.4"
  }
 },
 "nbformat": 4,
 "nbformat_minor": 2
}
